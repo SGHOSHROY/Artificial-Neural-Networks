{
  "nbformat": 4,
  "nbformat_minor": 0,
  "metadata": {
    "colab": {
      "provenance": [],
      "gpuType": "T4"
    },
    "kernelspec": {
      "name": "python3",
      "display_name": "Python 3"
    },
    "language_info": {
      "name": "python"
    },
    "accelerator": "GPU"
  },
  "cells": [
    {
      "cell_type": "code",
      "execution_count": 1,
      "metadata": {
        "id": "z4ti_o5SfRHw"
      },
      "outputs": [],
      "source": [
        "import tensorflow as tf"
      ]
    },
    {
      "cell_type": "code",
      "source": [
        "random_gen = tf.random.Generator.from_seed(42)\n",
        "random_gen.normal(shape=(2,3))"
      ],
      "metadata": {
        "colab": {
          "base_uri": "https://localhost:8080/"
        },
        "id": "6Khx565dffdP",
        "outputId": "c6521f1a-beac-473d-ec85-3e47e2b9d18f"
      },
      "execution_count": 2,
      "outputs": [
        {
          "output_type": "execute_result",
          "data": {
            "text/plain": [
              "<tf.Tensor: shape=(2, 3), dtype=float32, numpy=\n",
              "array([[-0.7565803 , -0.06854702,  0.07595026],\n",
              "       [-1.2573844 , -0.23193765, -1.8107855 ]], dtype=float32)>"
            ]
          },
          "metadata": {},
          "execution_count": 2
        }
      ]
    },
    {
      "cell_type": "code",
      "source": [
        "random_uniform = tf.random.uniform(shape=(2,3))\n",
        "print(random_uniform)"
      ],
      "metadata": {
        "colab": {
          "base_uri": "https://localhost:8080/"
        },
        "id": "RkkAMew4gBIO",
        "outputId": "fb791394-2cc4-4191-c95d-4646e3431770"
      },
      "execution_count": 3,
      "outputs": [
        {
          "output_type": "stream",
          "name": "stdout",
          "text": [
            "tf.Tensor(\n",
            "[[0.5373194  0.5740459  0.7260903 ]\n",
            " [0.00179493 0.8287295  0.5112703 ]], shape=(2, 3), dtype=float32)\n"
          ]
        }
      ]
    },
    {
      "cell_type": "code",
      "source": [
        "random_uniform = tf.random.uniform(shape=(2,3), dtype = tf.float32, seed = 12)\n",
        "print(random_uniform)"
      ],
      "metadata": {
        "colab": {
          "base_uri": "https://localhost:8080/"
        },
        "id": "6Qq62FuPgSfe",
        "outputId": "83fa61ab-6913-4152-d1ac-10174e9efb34"
      },
      "execution_count": 4,
      "outputs": [
        {
          "output_type": "stream",
          "name": "stdout",
          "text": [
            "tf.Tensor(\n",
            "[[0.6361525  0.92409146 0.6762773 ]\n",
            " [0.50212514 0.9611496  0.8856722 ]], shape=(2, 3), dtype=float32)\n"
          ]
        }
      ]
    },
    {
      "cell_type": "code",
      "source": [
        "random_uniform = tf.random.uniform(shape=(2,3), dtype = tf.float32, seed = 20)\n",
        "print(random_uniform)"
      ],
      "metadata": {
        "colab": {
          "base_uri": "https://localhost:8080/"
        },
        "id": "uMXJIP_vgjt3",
        "outputId": "469c935f-130f-44da-e46d-9f96e54fb144"
      },
      "execution_count": 5,
      "outputs": [
        {
          "output_type": "stream",
          "name": "stdout",
          "text": [
            "tf.Tensor(\n",
            "[[0.5690819  0.14772344 0.85629904]\n",
            " [0.20141506 0.7484052  0.09923506]], shape=(2, 3), dtype=float32)\n"
          ]
        }
      ]
    },
    {
      "cell_type": "code",
      "source": [
        "random_uniform = tf.random.uniform(shape=(2,3), dtype = tf.float32, seed = 42)\n",
        "print(random_uniform)\n",
        "\n",
        "random_uniform_range = tf.random.uniform(shape=(2,3), minval = 0.6, maxval = 0.9, dtype = tf.float32, seed = 42)\n",
        "print(random_uniform)"
      ],
      "metadata": {
        "colab": {
          "base_uri": "https://localhost:8080/"
        },
        "id": "pDNcJfZmgvk0",
        "outputId": "b299c942-e900-4efd-83dc-e7473ddb7af7"
      },
      "execution_count": 6,
      "outputs": [
        {
          "output_type": "stream",
          "name": "stdout",
          "text": [
            "tf.Tensor(\n",
            "[[0.95227146 0.67740774 0.79531825]\n",
            " [0.75578177 0.4759556  0.6310148 ]], shape=(2, 3), dtype=float32)\n",
            "tf.Tensor(\n",
            "[[0.95227146 0.67740774 0.79531825]\n",
            " [0.75578177 0.4759556  0.6310148 ]], shape=(2, 3), dtype=float32)\n"
          ]
        }
      ]
    },
    {
      "cell_type": "code",
      "source": [
        "tensor = tf.random.shuffle([[1,2],[3,4],[5,6]])\n",
        "print(tensor)\n",
        "\n",
        "tensor = tf.random.shuffle([[1,2],[3,4],[5,6]], seed = 2345)\n",
        "print(tensor)\n",
        "\n",
        "tensor = tf.random.shuffle([[1,2],[3,4],[5,6]], seed = 2345)\n",
        "print(tensor)"
      ],
      "metadata": {
        "colab": {
          "base_uri": "https://localhost:8080/"
        },
        "id": "j2wGa3cohJk0",
        "outputId": "01053701-97f4-4778-ed6b-5d96535bd642"
      },
      "execution_count": 7,
      "outputs": [
        {
          "output_type": "stream",
          "name": "stdout",
          "text": [
            "tf.Tensor(\n",
            "[[1 2]\n",
            " [3 4]\n",
            " [5 6]], shape=(3, 2), dtype=int32)\n",
            "tf.Tensor(\n",
            "[[1 2]\n",
            " [3 4]\n",
            " [5 6]], shape=(3, 2), dtype=int32)\n",
            "tf.Tensor(\n",
            "[[3 4]\n",
            " [5 6]\n",
            " [1 2]], shape=(3, 2), dtype=int32)\n"
          ]
        }
      ]
    },
    {
      "cell_type": "code",
      "source": [
        "tensor = tf.random.shuffle([[1,2],[3,4],[5,6]], seed = 2345)\n",
        "print(tensor)\n",
        "\n",
        "tensor = tf.random.shuffle([[1,2],[3,4],[5,6]], seed = 2345)\n",
        "print(tensor)"
      ],
      "metadata": {
        "colab": {
          "base_uri": "https://localhost:8080/"
        },
        "id": "6ebUm5kkihYs",
        "outputId": "f8650ec1-b3d7-4076-97fe-2b989cdbf723"
      },
      "execution_count": 8,
      "outputs": [
        {
          "output_type": "stream",
          "name": "stdout",
          "text": [
            "tf.Tensor(\n",
            "[[5 6]\n",
            " [1 2]\n",
            " [3 4]], shape=(3, 2), dtype=int32)\n",
            "tf.Tensor(\n",
            "[[1 2]\n",
            " [5 6]\n",
            " [3 4]], shape=(3, 2), dtype=int32)\n"
          ]
        }
      ]
    },
    {
      "cell_type": "code",
      "source": [
        "a = tf.random.shuffle([[1,2],[3,4],[5,6]], seed = 2345).numpy()\n",
        "b = tf.random.shuffle([[1,2],[3,4],[5,6]], seed = 2345).numpy()\n",
        "print(a == b)"
      ],
      "metadata": {
        "colab": {
          "base_uri": "https://localhost:8080/"
        },
        "id": "wejmxK5cijOu",
        "outputId": "cdd0f444-d0fe-49ba-974a-b7e3c3dc6de2"
      },
      "execution_count": 9,
      "outputs": [
        {
          "output_type": "stream",
          "name": "stdout",
          "text": [
            "[[ True  True]\n",
            " [False False]\n",
            " [False False]]\n"
          ]
        }
      ]
    },
    {
      "cell_type": "code",
      "source": [
        "string = tf.Variable(\"this is a string\", dtype = tf.string)\n",
        "print(string)\n",
        "\n",
        "string_arr = tf.Variable([\"this\", \"is\", \"a\", \"string\"], dtype = tf.string)\n",
        "print(string_arr)"
      ],
      "metadata": {
        "colab": {
          "base_uri": "https://localhost:8080/"
        },
        "id": "Vzd5rfvnE7zy",
        "outputId": "e8da8aec-009e-4116-c98a-dd3ae673ca68"
      },
      "execution_count": 10,
      "outputs": [
        {
          "output_type": "stream",
          "name": "stdout",
          "text": [
            "<tf.Variable 'Variable:0' shape=() dtype=string, numpy=b'this is a string'>\n",
            "<tf.Variable 'Variable:0' shape=(4,) dtype=string, numpy=array([b'this', b'is', b'a', b'string'], dtype=object)>\n"
          ]
        }
      ]
    },
    {
      "cell_type": "markdown",
      "source": [
        "##Rank Of tensors"
      ],
      "metadata": {
        "id": "7v2sgr26HJ5M"
      }
    },
    {
      "cell_type": "code",
      "source": [
        "rank_1_tensor = tf.Variable([\"This is a string\"], dtype = tf.string)\n",
        "print(rank_1_tensor)\n",
        "\n",
        "rank_2_tensor = tf.Variable([[\"This is a string\",\"This is another string\"], [\"This is test\", 'test ok']], dtype = tf.string)\n",
        "print(rank_2_tensor)"
      ],
      "metadata": {
        "colab": {
          "base_uri": "https://localhost:8080/"
        },
        "id": "2UL2B5ApGVID",
        "outputId": "5a5bdfa0-27a8-4720-e267-57f159273a0e"
      },
      "execution_count": 11,
      "outputs": [
        {
          "output_type": "stream",
          "name": "stdout",
          "text": [
            "<tf.Variable 'Variable:0' shape=(1,) dtype=string, numpy=array([b'This is a string'], dtype=object)>\n",
            "<tf.Variable 'Variable:0' shape=(2, 2) dtype=string, numpy=\n",
            "array([[b'This is a string', b'This is another string'],\n",
            "       [b'This is test', b'test ok']], dtype=object)>\n"
          ]
        }
      ]
    },
    {
      "cell_type": "code",
      "source": [
        "tf.rank(rank_2_tensor)\n",
        "print(tf.rank(rank_2_tensor))\n",
        "\n",
        "print(tf.rank(rank_2_tensor).numpy())"
      ],
      "metadata": {
        "colab": {
          "base_uri": "https://localhost:8080/"
        },
        "id": "T8g4L4XJG2q5",
        "outputId": "e6d99711-59b9-490a-c611-216f81fde080"
      },
      "execution_count": 12,
      "outputs": [
        {
          "output_type": "stream",
          "name": "stdout",
          "text": [
            "tf.Tensor(2, shape=(), dtype=int32)\n",
            "2\n"
          ]
        }
      ]
    },
    {
      "cell_type": "markdown",
      "source": [
        "##Shape Of Tensors"
      ],
      "metadata": {
        "id": "RW6-Ivr2HOk_"
      }
    },
    {
      "cell_type": "code",
      "source": [
        "rank_2_tensor.shape"
      ],
      "metadata": {
        "colab": {
          "base_uri": "https://localhost:8080/"
        },
        "id": "yREa1md0HSEX",
        "outputId": "7995487e-75d4-428c-f597-c713c8aede0b"
      },
      "execution_count": 13,
      "outputs": [
        {
          "output_type": "execute_result",
          "data": {
            "text/plain": [
              "TensorShape([2, 2])"
            ]
          },
          "metadata": {},
          "execution_count": 13
        }
      ]
    },
    {
      "cell_type": "code",
      "source": [
        "rank_2_tensor = tf.Variable([[\"Dog\",\"Cat\",\"Cow\"], [\"eagle\", \"penguin\",\"house sparrow\"]], dtype = tf.string)\n",
        "print(rank_2_tensor)\n",
        "\n",
        "print(rank_2_tensor.shape)"
      ],
      "metadata": {
        "colab": {
          "base_uri": "https://localhost:8080/"
        },
        "id": "LONjoHApHXf2",
        "outputId": "9b135801-65d1-458c-e984-de1461b5c6ff"
      },
      "execution_count": 14,
      "outputs": [
        {
          "output_type": "stream",
          "name": "stdout",
          "text": [
            "<tf.Variable 'Variable:0' shape=(2, 3) dtype=string, numpy=\n",
            "array([[b'Dog', b'Cat', b'Cow'],\n",
            "       [b'eagle', b'penguin', b'house sparrow']], dtype=object)>\n",
            "(2, 3)\n"
          ]
        }
      ]
    },
    {
      "cell_type": "code",
      "source": [
        "rank_2_tensor.numpy()"
      ],
      "metadata": {
        "colab": {
          "base_uri": "https://localhost:8080/"
        },
        "id": "1Fnok_6zIINS",
        "outputId": "27ec3e11-8cec-4954-b58e-08c4d7b34fc9"
      },
      "execution_count": 15,
      "outputs": [
        {
          "output_type": "execute_result",
          "data": {
            "text/plain": [
              "array([[b'Dog', b'Cat', b'Cow'],\n",
              "       [b'eagle', b'penguin', b'house sparrow']], dtype=object)"
            ]
          },
          "metadata": {},
          "execution_count": 15
        }
      ]
    },
    {
      "cell_type": "markdown",
      "source": [
        "## Changing the shape of tensor\n",
        "\n",
        "The number of elements of a tensor is the product of the size of all its shapes. Reshaping the tensor has applications in flattening layer of Neural Network."
      ],
      "metadata": {
        "id": "yUWb88a9Ifc3"
      }
    },
    {
      "cell_type": "code",
      "source": [
        "tensor1 =tf.ones([1,2,3])\n",
        "print(tensor1)\n",
        "\n",
        "tensor2 = tf.reshape(tensor1, [2,3,1])\n",
        "print(tensor2)\n",
        "\n",
        "tensor3 = tf.reshape(tensor2, [3,-1])\n",
        "print(tensor3)"
      ],
      "metadata": {
        "colab": {
          "base_uri": "https://localhost:8080/"
        },
        "id": "SXVoTM7gIeRf",
        "outputId": "b2402141-1e80-4488-a0c1-3427e7f89396"
      },
      "execution_count": 16,
      "outputs": [
        {
          "output_type": "stream",
          "name": "stdout",
          "text": [
            "tf.Tensor(\n",
            "[[[1. 1. 1.]\n",
            "  [1. 1. 1.]]], shape=(1, 2, 3), dtype=float32)\n",
            "tf.Tensor(\n",
            "[[[1.]\n",
            "  [1.]\n",
            "  [1.]]\n",
            "\n",
            " [[1.]\n",
            "  [1.]\n",
            "  [1.]]], shape=(2, 3, 1), dtype=float32)\n",
            "tf.Tensor(\n",
            "[[1. 1.]\n",
            " [1. 1.]\n",
            " [1. 1.]], shape=(3, 2), dtype=float32)\n"
          ]
        }
      ]
    },
    {
      "cell_type": "code",
      "source": [
        "tensor1 =tf.ones([2,2,4])\n",
        "print(tensor1)\n",
        "\n",
        "# tensor2 =tf.reshape(tensor1, [1,1,2]) ---gives error because 2*2*4 != 1*1*2\n",
        "# --so, it cant fit all the elements of tensor into this\n",
        "#print(tensor2) -- error\n",
        "\n",
        "tensor2 =tf.reshape(tensor1, [1,1,16])\n",
        "print(tensor2)\n",
        "\n",
        "tensor3 =tf.reshape(tensor1, [1,1,-1])  #value -1 allows it to calculate the dimension in that place, it will reshape based on number of elements\n",
        "print(tensor3)                          #this will reshape to [1,1,16]"
      ],
      "metadata": {
        "colab": {
          "base_uri": "https://localhost:8080/"
        },
        "id": "qypFFfjCKACy",
        "outputId": "02e550f7-c30f-404d-8d22-b5dc8742c7cd"
      },
      "execution_count": 17,
      "outputs": [
        {
          "output_type": "stream",
          "name": "stdout",
          "text": [
            "tf.Tensor(\n",
            "[[[1. 1. 1. 1.]\n",
            "  [1. 1. 1. 1.]]\n",
            "\n",
            " [[1. 1. 1. 1.]\n",
            "  [1. 1. 1. 1.]]], shape=(2, 2, 4), dtype=float32)\n",
            "tf.Tensor([[[1. 1. 1. 1. 1. 1. 1. 1. 1. 1. 1. 1. 1. 1. 1. 1.]]], shape=(1, 1, 16), dtype=float32)\n",
            "tf.Tensor([[[1. 1. 1. 1. 1. 1. 1. 1. 1. 1. 1. 1. 1. 1. 1. 1.]]], shape=(1, 1, 16), dtype=float32)\n"
          ]
        }
      ]
    },
    {
      "cell_type": "code",
      "source": [
        "tshape = tensor.shape #The shape returns a tuple value\n",
        "print(tshape[0], tshape[1])"
      ],
      "metadata": {
        "colab": {
          "base_uri": "https://localhost:8080/"
        },
        "id": "gJoFGbRyL8yt",
        "outputId": "8d266b1a-05af-4617-9c59-b7519fb22779"
      },
      "execution_count": 18,
      "outputs": [
        {
          "output_type": "stream",
          "name": "stdout",
          "text": [
            "3 2\n"
          ]
        }
      ]
    },
    {
      "cell_type": "markdown",
      "source": [
        "## Evaluating tensors\n",
        "\n",
        "There will be sometimes when we will be required to evaluate the tensors. In other words, get it's value. Since, tensors represent a partially completed computation, we need to run a session."
      ],
      "metadata": {
        "id": "fiWSQQ91MycR"
      }
    },
    {
      "cell_type": "code",
      "source": [
        "tf.__version__"
      ],
      "metadata": {
        "colab": {
          "base_uri": "https://localhost:8080/",
          "height": 36
        },
        "id": "faR-9S2WQzuN",
        "outputId": "460672b0-4049-4467-9e17-0a29b818ece3"
      },
      "execution_count": 20,
      "outputs": [
        {
          "output_type": "execute_result",
          "data": {
            "text/plain": [
              "'2.18.0'"
            ],
            "application/vnd.google.colaboratory.intrinsic+json": {
              "type": "string"
            }
          },
          "metadata": {},
          "execution_count": 20
        }
      ]
    },
    {
      "cell_type": "code",
      "source": [
        "with tf.Session() as sess:\n",
        "  tensor.eval()"
      ],
      "metadata": {
        "id": "Bbrgf9UyMxZE"
      },
      "execution_count": 21,
      "outputs": []
    },
    {
      "cell_type": "code",
      "source": [],
      "metadata": {
        "id": "sJSIhm4WRJ3J"
      },
      "execution_count": null,
      "outputs": []
    }
  ]
}