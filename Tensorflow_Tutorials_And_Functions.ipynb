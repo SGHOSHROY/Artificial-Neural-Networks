{
  "nbformat": 4,
  "nbformat_minor": 0,
  "metadata": {
    "colab": {
      "provenance": [],
      "gpuType": "T4"
    },
    "kernelspec": {
      "name": "python3",
      "display_name": "Python 3"
    },
    "language_info": {
      "name": "python"
    },
    "accelerator": "GPU"
  },
  "cells": [
    {
      "cell_type": "markdown",
      "source": [
        "# Basic Tensorflow Operations"
      ],
      "metadata": {
        "id": "IdkxvdosKU2D"
      }
    },
    {
      "cell_type": "code",
      "source": [
        "## For ignore warnings\n",
        "import warnings\n",
        "warnings.filterwarnings('ignore')"
      ],
      "metadata": {
        "id": "hhl0hyY7krpF"
      },
      "execution_count": 1,
      "outputs": []
    },
    {
      "cell_type": "code",
      "execution_count": 2,
      "metadata": {
        "colab": {
          "base_uri": "https://localhost:8080/"
        },
        "id": "cscb_IEAkkFs",
        "outputId": "d4aae6f0-543d-4f6a-9d91-fcd0673bce2c"
      },
      "outputs": [
        {
          "output_type": "stream",
          "name": "stderr",
          "text": [
            "WARNING:tensorflow:From <ipython-input-2-4ffdad96d59a>:5: is_gpu_available (from tensorflow.python.framework.test_util) is deprecated and will be removed in a future version.\n",
            "Instructions for updating:\n",
            "Use `tf.config.list_physical_devices('GPU')` instead.\n"
          ]
        },
        {
          "output_type": "stream",
          "name": "stdout",
          "text": [
            "2.17.1\n",
            "True\n",
            "True\n"
          ]
        }
      ],
      "source": [
        "import tensorflow as tf\n",
        "import tensorflow as tf\n",
        "print(tf.__version__)\n",
        "print(tf.test.is_built_with_cuda())\n",
        "print(tf.test.is_gpu_available(cuda_only=False, min_cuda_compute_capability=None))"
      ]
    },
    {
      "cell_type": "code",
      "source": [
        "tensor = tf.constant(5)\n",
        "print(tensor)"
      ],
      "metadata": {
        "colab": {
          "base_uri": "https://localhost:8080/"
        },
        "id": "z8PEmXCYlUnP",
        "outputId": "d3090ea2-b2c9-4e19-ee95-ccab1c999476"
      },
      "execution_count": 3,
      "outputs": [
        {
          "output_type": "stream",
          "name": "stdout",
          "text": [
            "tf.Tensor(5, shape=(), dtype=int32)\n"
          ]
        }
      ]
    },
    {
      "cell_type": "code",
      "source": [
        "tensor = tf.constant([1,2,3,4,5])\n",
        "print(tensor)"
      ],
      "metadata": {
        "colab": {
          "base_uri": "https://localhost:8080/"
        },
        "id": "ywizoSThleR4",
        "outputId": "ee8471a6-43f9-4e6c-cd1d-0c049c2f672f"
      },
      "execution_count": 4,
      "outputs": [
        {
          "output_type": "stream",
          "name": "stdout",
          "text": [
            "tf.Tensor([1 2 3 4 5], shape=(5,), dtype=int32)\n"
          ]
        }
      ]
    },
    {
      "cell_type": "code",
      "source": [
        "tensor = tf.constant([[[1,2,3], [4,5,6]],\n",
        "\n",
        "                     [[7,8,9], [10,11,12]],\n",
        "\n",
        "                     [[0.1,0.6,0.9], [1.9,2.3,4.5]],\n",
        "\n",
        "                     [[10,30,20], [7,80,90]]], dtype = tf.float16\n",
        "                     )\n",
        "print(tensor)"
      ],
      "metadata": {
        "colab": {
          "base_uri": "https://localhost:8080/"
        },
        "id": "XF2gzI3dlo4r",
        "outputId": "13a1da40-1c0d-4767-f0e8-59310f8f5775"
      },
      "execution_count": 5,
      "outputs": [
        {
          "output_type": "stream",
          "name": "stdout",
          "text": [
            "tf.Tensor(\n",
            "[[[ 1.   2.   3. ]\n",
            "  [ 4.   5.   6. ]]\n",
            "\n",
            " [[ 7.   8.   9. ]\n",
            "  [10.  11.  12. ]]\n",
            "\n",
            " [[ 0.1  0.6  0.9]\n",
            "  [ 1.9  2.3  4.5]]\n",
            "\n",
            " [[10.  30.  20. ]\n",
            "  [ 7.  80.  90. ]]], shape=(4, 2, 3), dtype=float16)\n"
          ]
        }
      ]
    },
    {
      "cell_type": "code",
      "source": [
        "tensor.shape"
      ],
      "metadata": {
        "colab": {
          "base_uri": "https://localhost:8080/"
        },
        "id": "cTI3zXGxmZWX",
        "outputId": "fd70e4f8-a7c4-4eee-a754-478d796ad377"
      },
      "execution_count": 6,
      "outputs": [
        {
          "output_type": "execute_result",
          "data": {
            "text/plain": [
              "TensorShape([4, 2, 3])"
            ]
          },
          "metadata": {},
          "execution_count": 6
        }
      ]
    },
    {
      "cell_type": "code",
      "source": [
        "## Rank of tensor\n",
        "print(tf.rank(tensor).numpy())"
      ],
      "metadata": {
        "colab": {
          "base_uri": "https://localhost:8080/"
        },
        "id": "jgnpBW4Fmnmg",
        "outputId": "0d3d2d37-d6b8-4b88-f2e7-d0ed6c8cfde9"
      },
      "execution_count": 7,
      "outputs": [
        {
          "output_type": "stream",
          "name": "stdout",
          "text": [
            "3\n"
          ]
        }
      ]
    },
    {
      "cell_type": "code",
      "source": [
        "print(tensor.ndim)"
      ],
      "metadata": {
        "colab": {
          "base_uri": "https://localhost:8080/"
        },
        "id": "G09oFdfumv9K",
        "outputId": "9fb233ac-4006-4d69-cad6-c8adae72a84f"
      },
      "execution_count": 8,
      "outputs": [
        {
          "output_type": "stream",
          "name": "stdout",
          "text": [
            "3\n"
          ]
        }
      ]
    },
    {
      "cell_type": "code",
      "source": [
        "## Immutable Tensor (Not Changed) -> tensor.constant()\n",
        "tensor = tf.constant([[1,2],[3,4],[5,0]], dtype = tf.float16)\n",
        "print(tensor)\n",
        "\n",
        "## Mutable Tensor (Can Be changed) -> tensor.Variable()\n",
        "tensor = tf.Variable([[1,2],[3,4],[5,0]], dtype = tf.float16)\n",
        "print(tensor)"
      ],
      "metadata": {
        "colab": {
          "base_uri": "https://localhost:8080/"
        },
        "id": "atnXGD0um7Sw",
        "outputId": "bb209a19-314a-4a8e-b839-13b537b6c7f3"
      },
      "execution_count": 9,
      "outputs": [
        {
          "output_type": "stream",
          "name": "stdout",
          "text": [
            "tf.Tensor(\n",
            "[[1. 2.]\n",
            " [3. 4.]\n",
            " [5. 0.]], shape=(3, 2), dtype=float16)\n",
            "<tf.Variable 'Variable:0' shape=(3, 2) dtype=float16, numpy=\n",
            "array([[1., 2.],\n",
            "       [3., 4.],\n",
            "       [5., 0.]], dtype=float16)>\n"
          ]
        }
      ]
    },
    {
      "cell_type": "code",
      "source": [
        "## Change Mutable Tensor values with tensor.assign(value)\n",
        "print(tensor)\n",
        "## After Change\n",
        "tensor[0].assign([[0,12]])\n",
        "print(tensor)"
      ],
      "metadata": {
        "colab": {
          "base_uri": "https://localhost:8080/"
        },
        "id": "ZjIm7aFloRki",
        "outputId": "ebb79045-d9a4-4ff7-ade5-c8d5182e07ce"
      },
      "execution_count": 10,
      "outputs": [
        {
          "output_type": "stream",
          "name": "stdout",
          "text": [
            "<tf.Variable 'Variable:0' shape=(3, 2) dtype=float16, numpy=\n",
            "array([[1., 2.],\n",
            "       [3., 4.],\n",
            "       [5., 0.]], dtype=float16)>\n",
            "<tf.Variable 'Variable:0' shape=(3, 2) dtype=float16, numpy=\n",
            "array([[ 0., 12.],\n",
            "       [ 3.,  4.],\n",
            "       [ 5.,  0.]], dtype=float16)>\n"
          ]
        }
      ]
    },
    {
      "cell_type": "markdown",
      "source": [
        "# tf.math functions (Mathematical Module)"
      ],
      "metadata": {
        "id": "EPQpbCr4KJbH"
      }
    },
    {
      "cell_type": "code",
      "source": [
        "tensor1 = tf.constant([[1,2],[3,4]], dtype = tf.float16)\n",
        "print(tensor1)\n",
        "\n",
        "tensor2 = tf.constant([[5,6],[7,8]], dtype = tf.float16)\n",
        "print(tensor2)\n",
        "\n",
        "tensor1 + tensor2"
      ],
      "metadata": {
        "colab": {
          "base_uri": "https://localhost:8080/"
        },
        "id": "tFxOanHTJQvy",
        "outputId": "a96ce719-427f-40bd-bb4d-dc326fc8c1d9"
      },
      "execution_count": 13,
      "outputs": [
        {
          "output_type": "stream",
          "name": "stdout",
          "text": [
            "tf.Tensor(\n",
            "[[1. 2.]\n",
            " [3. 4.]], shape=(2, 2), dtype=float16)\n",
            "tf.Tensor(\n",
            "[[5. 6.]\n",
            " [7. 8.]], shape=(2, 2), dtype=float16)\n"
          ]
        },
        {
          "output_type": "execute_result",
          "data": {
            "text/plain": [
              "<tf.Tensor: shape=(2, 2), dtype=float16, numpy=\n",
              "array([[ 6.,  8.],\n",
              "       [10., 12.]], dtype=float16)>"
            ]
          },
          "metadata": {},
          "execution_count": 13
        }
      ]
    },
    {
      "cell_type": "code",
      "source": [
        "tensor1 = tf.Variable([[1,2],[3,4]], dtype = tf.float16)\n",
        "print(tensor1)\n",
        "\n",
        "tensor2 = tf.Variable([[5,6],[7,8]], dtype = tf.float16)\n",
        "print(tensor2)\n",
        "\n",
        "tensor1 * tensor2"
      ],
      "metadata": {
        "colab": {
          "base_uri": "https://localhost:8080/"
        },
        "id": "VEpLKNRxK437",
        "outputId": "e7d61aa7-39f1-4cd3-d1e5-ab283ad25dd1"
      },
      "execution_count": 14,
      "outputs": [
        {
          "output_type": "stream",
          "name": "stdout",
          "text": [
            "<tf.Variable 'Variable:0' shape=(2, 2) dtype=float16, numpy=\n",
            "array([[1., 2.],\n",
            "       [3., 4.]], dtype=float16)>\n",
            "<tf.Variable 'Variable:0' shape=(2, 2) dtype=float16, numpy=\n",
            "array([[5., 6.],\n",
            "       [7., 8.]], dtype=float16)>\n"
          ]
        },
        {
          "output_type": "execute_result",
          "data": {
            "text/plain": [
              "<tf.Tensor: shape=(2, 2), dtype=float16, numpy=\n",
              "array([[ 5., 12.],\n",
              "       [21., 32.]], dtype=float16)>"
            ]
          },
          "metadata": {},
          "execution_count": 14
        }
      ]
    },
    {
      "cell_type": "code",
      "source": [
        "## Add two tensor\n",
        "tf.add(tensor1,tensor2)"
      ],
      "metadata": {
        "colab": {
          "base_uri": "https://localhost:8080/"
        },
        "id": "2l2ljaSvLIW6",
        "outputId": "c2101d52-e03e-4671-c769-4210ef4c9fe3"
      },
      "execution_count": 15,
      "outputs": [
        {
          "output_type": "execute_result",
          "data": {
            "text/plain": [
              "<tf.Tensor: shape=(2, 2), dtype=float16, numpy=\n",
              "array([[ 6.,  8.],\n",
              "       [10., 12.]], dtype=float16)>"
            ]
          },
          "metadata": {},
          "execution_count": 15
        }
      ]
    },
    {
      "cell_type": "code",
      "source": [
        "## Multiplication\n",
        "tf.multiply(tensor1,tensor2)"
      ],
      "metadata": {
        "colab": {
          "base_uri": "https://localhost:8080/"
        },
        "id": "KH3Sch05LNhh",
        "outputId": "4e9c61da-1c08-442b-aead-0120b61dde84"
      },
      "execution_count": 16,
      "outputs": [
        {
          "output_type": "execute_result",
          "data": {
            "text/plain": [
              "<tf.Tensor: shape=(2, 2), dtype=float16, numpy=\n",
              "array([[ 5., 12.],\n",
              "       [21., 32.]], dtype=float16)>"
            ]
          },
          "metadata": {},
          "execution_count": 16
        }
      ]
    },
    {
      "cell_type": "code",
      "source": [
        "tensor = tf.multiply(tf.constant(5, dtype = tf.float32), tf.constant(6, dtype = tf.float32))\n",
        "print(tensor)"
      ],
      "metadata": {
        "colab": {
          "base_uri": "https://localhost:8080/"
        },
        "id": "lvcNmkKALdfJ",
        "outputId": "22d76ddf-35f9-4a84-ddbf-2c8941503fda"
      },
      "execution_count": 21,
      "outputs": [
        {
          "output_type": "stream",
          "name": "stdout",
          "text": [
            "tf.Tensor(30.0, shape=(), dtype=float32)\n"
          ]
        }
      ]
    },
    {
      "cell_type": "code",
      "source": [
        "tensor = tf.multiply(tf.constant([5,0], dtype = tf.float32), tf.constant(6, dtype = tf.float32))\n",
        "print(tensor)"
      ],
      "metadata": {
        "colab": {
          "base_uri": "https://localhost:8080/"
        },
        "id": "dP_js4HOLwZI",
        "outputId": "be7fc489-b4bf-4bac-ab3d-b724e3128efe"
      },
      "execution_count": 22,
      "outputs": [
        {
          "output_type": "stream",
          "name": "stdout",
          "text": [
            "tf.Tensor([30.  0.], shape=(2,), dtype=float32)\n"
          ]
        }
      ]
    },
    {
      "cell_type": "code",
      "source": [
        "tf.matmul(tensor1,tensor2)"
      ],
      "metadata": {
        "colab": {
          "base_uri": "https://localhost:8080/"
        },
        "id": "ReOP7WDXLR3j",
        "outputId": "6d1d9d3c-a0ac-40ce-a721-31056895b16e"
      },
      "execution_count": 23,
      "outputs": [
        {
          "output_type": "execute_result",
          "data": {
            "text/plain": [
              "<tf.Tensor: shape=(2, 2), dtype=float16, numpy=\n",
              "array([[19., 22.],\n",
              "       [43., 50.]], dtype=float16)>"
            ]
          },
          "metadata": {},
          "execution_count": 23
        }
      ]
    },
    {
      "cell_type": "code",
      "source": [
        "print(tensor1 @ tensor2)"
      ],
      "metadata": {
        "colab": {
          "base_uri": "https://localhost:8080/"
        },
        "id": "RtzEeAQYMk5u",
        "outputId": "2f89d8ca-2f20-41ce-8927-660b8f366237"
      },
      "execution_count": 24,
      "outputs": [
        {
          "output_type": "stream",
          "name": "stdout",
          "text": [
            "tf.Tensor(\n",
            "[[19. 22.]\n",
            " [43. 50.]], shape=(2, 2), dtype=float16)\n"
          ]
        }
      ]
    },
    {
      "cell_type": "code",
      "source": [
        "tensor = tf.multiply(tf.constant([5,0], dtype = tf.float32), tf.constant(6, dtype = tf.float32))\n",
        "tensor = tf.multiply(tensor, tf.constant([12,0], dtype = tf.float32))\n",
        "print(tensor)"
      ],
      "metadata": {
        "colab": {
          "base_uri": "https://localhost:8080/"
        },
        "id": "8nDMnsMfMyHO",
        "outputId": "a106cc5e-60e3-4e37-f97e-394c307dc5f6"
      },
      "execution_count": 27,
      "outputs": [
        {
          "output_type": "stream",
          "name": "stdout",
          "text": [
            "tf.Tensor([360.   0.], shape=(2,), dtype=float32)\n"
          ]
        }
      ]
    },
    {
      "cell_type": "code",
      "source": [
        "## Broadcasting in Tensor\n",
        "tensor = tf.multiply(tf.constant([5,0], dtype = tf.float32), tf.constant([[6,1],[2,0]], dtype = tf.float32))\n",
        "tensor"
      ],
      "metadata": {
        "colab": {
          "base_uri": "https://localhost:8080/"
        },
        "id": "r3p8xKunNUWN",
        "outputId": "7a8e3721-21bc-4cc4-dc28-53c95073a1c3"
      },
      "execution_count": 29,
      "outputs": [
        {
          "output_type": "execute_result",
          "data": {
            "text/plain": [
              "<tf.Tensor: shape=(2, 2), dtype=float32, numpy=\n",
              "array([[30.,  0.],\n",
              "       [10.,  0.]], dtype=float32)>"
            ]
          },
          "metadata": {},
          "execution_count": 29
        }
      ]
    },
    {
      "cell_type": "code",
      "source": [
        "## Trigonometric functions\n",
        "import math\n",
        "angles = tf.constant([0.0, math.pi / 2, math.pi])  # Angles in radians\n",
        "sin = tf.math.sin(angles)\n",
        "cos = tf.math.cos(angles)\n",
        "tan = tf.math.tan(angles)\n",
        "\n",
        "print(\"Sin:\", sin)\n",
        "print(\"Cos:\", cos)\n",
        "print(\"Tan:\", tan)"
      ],
      "metadata": {
        "colab": {
          "base_uri": "https://localhost:8080/"
        },
        "id": "9tlQxmEPOxKy",
        "outputId": "c9c02b58-66ed-459d-ed9b-30cf15249812"
      },
      "execution_count": 31,
      "outputs": [
        {
          "output_type": "stream",
          "name": "stdout",
          "text": [
            "Sin: tf.Tensor([ 0.000000e+00  1.000000e+00 -8.742278e-08], shape=(3,), dtype=float32)\n",
            "Cos: tf.Tensor([ 1.000000e+00 -4.371139e-08 -1.000000e+00], shape=(3,), dtype=float32)\n",
            "Tan: tf.Tensor([ 0.0000000e+00 -2.2877334e+07  8.7422777e-08], shape=(3,), dtype=float32)\n"
          ]
        }
      ]
    },
    {
      "cell_type": "code",
      "source": [
        "## Square Root\n",
        "tf.math.sqrt(tf.constant([[1,4],[9,25]], dtype = tf.float32))"
      ],
      "metadata": {
        "colab": {
          "base_uri": "https://localhost:8080/"
        },
        "id": "HE-iDMjZRZ9w",
        "outputId": "d9b0f33c-8ca6-40f1-8a4a-2c6136cd27f9"
      },
      "execution_count": 32,
      "outputs": [
        {
          "output_type": "execute_result",
          "data": {
            "text/plain": [
              "<tf.Tensor: shape=(2, 2), dtype=float32, numpy=\n",
              "array([[1., 2.],\n",
              "       [3., 5.]], dtype=float32)>"
            ]
          },
          "metadata": {},
          "execution_count": 32
        }
      ]
    },
    {
      "cell_type": "code",
      "source": [
        "## Natural Logarithm\n",
        "tf.math.log(tf.constant([[1.0, 4.0], [9.0, 25.0]], dtype = tf.float32))"
      ],
      "metadata": {
        "colab": {
          "base_uri": "https://localhost:8080/"
        },
        "id": "UkLBw-fvSa3o",
        "outputId": "b6fd20a0-5b53-4139-c5e9-7d5cdc38cb7a"
      },
      "execution_count": 33,
      "outputs": [
        {
          "output_type": "execute_result",
          "data": {
            "text/plain": [
              "<tf.Tensor: shape=(2, 2), dtype=float32, numpy=\n",
              "array([[0.       , 1.3862944],\n",
              "       [2.1972246, 3.218876 ]], dtype=float32)>"
            ]
          },
          "metadata": {},
          "execution_count": 33
        }
      ]
    },
    {
      "cell_type": "code",
      "source": [
        "## Rounding Off\n",
        "x = tf.constant([1.4, 2.6, 3.3])\n",
        "\n",
        "rounded = tf.math.round(x)  # Rounds to nearest integer\n",
        "floor = tf.math.floor(x)    # Rounds down\n",
        "ceil = tf.math.ceil(x)      # Rounds up\n",
        "\n",
        "print(\"Rounded:\", rounded)\n",
        "print(\"Floor:\", floor)\n",
        "print(\"Ceiling:\", ceil)"
      ],
      "metadata": {
        "colab": {
          "base_uri": "https://localhost:8080/"
        },
        "id": "dv9zy2qJTDCV",
        "outputId": "9e20359e-5578-4919-8ca1-d2d58194a5ca"
      },
      "execution_count": 34,
      "outputs": [
        {
          "output_type": "stream",
          "name": "stdout",
          "text": [
            "Rounded: tf.Tensor([1. 3. 3.], shape=(3,), dtype=float32)\n",
            "Floor: tf.Tensor([1. 2. 3.], shape=(3,), dtype=float32)\n",
            "Ceiling: tf.Tensor([2. 3. 4.], shape=(3,), dtype=float32)\n"
          ]
        }
      ]
    },
    {
      "cell_type": "code",
      "source": [
        "## Reducing Operations\n",
        "tensor = tf.constant([[1, 2, 3], [4, 5, 6]], dtype = tf.float32)\n",
        "sum_all = tf.math.reduce_sum(tensor)\n",
        "print(\"Sum of all elements:\", sum_all)\n",
        "\n",
        "sum_axis_0 = tf.math.reduce_sum(tensor, axis=0)\n",
        "print(\"Sum along axis 0:\", sum_axis_0)\n",
        "\n",
        "sum_axis_1 = tf.math.reduce_sum(tensor, axis=1)\n",
        "print(\"Sum along axis 1:\", sum_axis_1)"
      ],
      "metadata": {
        "colab": {
          "base_uri": "https://localhost:8080/"
        },
        "id": "tWK2kRjZTmW7",
        "outputId": "f7f637fe-0849-4594-db21-007fadac5f24"
      },
      "execution_count": 35,
      "outputs": [
        {
          "output_type": "stream",
          "name": "stdout",
          "text": [
            "Sum of all elements: tf.Tensor(21.0, shape=(), dtype=float32)\n",
            "Sum along axis 0: tf.Tensor([5. 7. 9.], shape=(3,), dtype=float32)\n",
            "Sum along axis 1: tf.Tensor([ 6. 15.], shape=(2,), dtype=float32)\n"
          ]
        }
      ]
    },
    {
      "cell_type": "code",
      "source": [
        "## Statistical Operations\n",
        "data = tf.constant([1.0, 2.0, 3.0, 4.0, 5.0])\n",
        "print(\"Mean : \", tf.math.reduce_mean(data))\n",
        "print(\"\\nMean along axis 0: \", tf.math.reduce_mean(data, axis = 0))\n",
        "print(\"\\nVariance : \", tf.math.reduce_variance(data))\n",
        "print(\"\\nStandard Deviation : \", tf.math.reduce_std(data))"
      ],
      "metadata": {
        "colab": {
          "base_uri": "https://localhost:8080/"
        },
        "id": "QbGkp_ElWIxl",
        "outputId": "26ce2b7b-8097-49da-c52a-7d5e7d3975a1"
      },
      "execution_count": 37,
      "outputs": [
        {
          "output_type": "stream",
          "name": "stdout",
          "text": [
            "Mean :  tf.Tensor(3.0, shape=(), dtype=float32)\n",
            "\n",
            "Mean along axis 0:  tf.Tensor(3.0, shape=(), dtype=float32)\n",
            "\n",
            "Variance :  tf.Tensor(2.0, shape=(), dtype=float32)\n",
            "\n",
            "Standard Deviation :  tf.Tensor(1.4142135, shape=(), dtype=float32)\n"
          ]
        }
      ]
    },
    {
      "cell_type": "code",
      "source": [
        "## Comparison\n",
        "a = tf.constant([2, 4, 6])\n",
        "b = tf.constant([1, 5, 6])\n",
        "\n",
        "equal = tf.math.equal(a, b)\n",
        "greater = tf.math.greater(a, b)\n",
        "less = tf.math.less(a, b)\n",
        "\n",
        "print(\"Equal:\", equal)\n",
        "print(\"Greater:\", greater)\n",
        "print(\"Less:\", less)\n",
        "print(\"\\n\\n\")\n",
        "\n",
        "equal = tf.math.equal(a, b)\n",
        "greater = tf.math.greater(a, b)\n",
        "less = tf.math.less(a, b)\n",
        "\n",
        "print(\"Equal:\", tf.constant(equal, dtype = tf.bool))\n",
        "print(\"Greater:\", tf.constant(greater, dtype = tf.bool))\n",
        "print(\"Less:\", tf.constant(less, dtype = tf.bool))"
      ],
      "metadata": {
        "colab": {
          "base_uri": "https://localhost:8080/"
        },
        "id": "ucXvelOzXoIx",
        "outputId": "b173386a-d8fe-4214-ddd3-758261d9d926"
      },
      "execution_count": 42,
      "outputs": [
        {
          "output_type": "stream",
          "name": "stdout",
          "text": [
            "Equal: tf.Tensor([False False  True], shape=(3,), dtype=bool)\n",
            "Greater: tf.Tensor([ True False False], shape=(3,), dtype=bool)\n",
            "Less: tf.Tensor([False  True False], shape=(3,), dtype=bool)\n",
            "\n",
            "\n",
            "\n",
            "Equal: tf.Tensor([False False  True], shape=(3,), dtype=bool)\n",
            "Greater: tf.Tensor([ True False False], shape=(3,), dtype=bool)\n",
            "Less: tf.Tensor([False  True False], shape=(3,), dtype=bool)\n"
          ]
        }
      ]
    },
    {
      "cell_type": "markdown",
      "source": [
        "#### Special Functions"
      ],
      "metadata": {
        "id": "dCVw6R_9Yys3"
      }
    },
    {
      "cell_type": "code",
      "source": [
        "# Absolute value\n",
        "abs_value = tf.math.abs(tf.constant([-1.0, -2.0, 3.0]))\n",
        "print(abs_value,\"\\n\\n\")\n",
        "\n",
        "# Sigmoid function\n",
        "sigmoid = tf.math.sigmoid(abs_value)\n",
        "\n",
        "# Softmax\n",
        "logits = tf.constant([2.0, 1.0, 0.1])\n",
        "softmax = tf.math.softmax(logits)\n",
        "\n",
        "print(\"Absolute Value:\", abs_value)\n",
        "print(\"Sigmoid:\", sigmoid)\n",
        "print(\"Softmax:\", softmax)"
      ],
      "metadata": {
        "colab": {
          "base_uri": "https://localhost:8080/"
        },
        "id": "BJhhYEOLYsF0",
        "outputId": "62ade9d6-4061-4b3d-9812-5434afb0a0e8"
      },
      "execution_count": 46,
      "outputs": [
        {
          "output_type": "stream",
          "name": "stdout",
          "text": [
            "tf.Tensor([1. 2. 3.], shape=(3,), dtype=float32) \n",
            "\n",
            "\n",
            "Absolute Value: tf.Tensor([1. 2. 3.], shape=(3,), dtype=float32)\n",
            "Sigmoid: tf.Tensor([0.73105854 0.880797   0.95257413], shape=(3,), dtype=float32)\n",
            "Softmax: tf.Tensor([0.6590011  0.24243298 0.09856588], shape=(3,), dtype=float32)\n"
          ]
        }
      ]
    }
  ]
}