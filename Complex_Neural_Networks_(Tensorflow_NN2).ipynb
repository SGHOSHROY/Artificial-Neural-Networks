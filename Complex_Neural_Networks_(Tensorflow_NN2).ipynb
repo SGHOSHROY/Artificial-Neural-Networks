{
  "cells": [
    {
      "cell_type": "markdown",
      "source": [
        "##Keras\n",
        "From the keras official documentation (https://keras.io/) keras is described as follows.\n",
        "\n",
        "\"Keras is a high-level neural networks API, written in Python and capable of running on top of ***TensorFlow, CNTK, or Theano*** . It was developed with a focus on enabling fast experimentation.\n",
        "\n",
        "Use Keras if you need a deep learning library that:\n",
        "\n",
        "- Allows for easy and fast prototyping (through user friendliness, modularity, and extensibility).\n",
        "- Supports both convolutional networks and recurrent networks, as well as combinations of the two.\n",
        "- Runs seamlessly on CPU and GPU.\"\n",
        "\n",
        "Keras is a very powerful module that allows us to avoid having to build neural networks from scratch. It also hides a lot of mathematical complexity (that otherwise we would have to implement) inside of helpful packages, modules and methods.\n",
        "\n",
        "In this guide we will use keras to quickly develop neural networks.\n",
        "\n"
      ],
      "metadata": {
        "id": "zoQ12PdCYYFZ"
      }
    },
    {
      "cell_type": "code",
      "execution_count": 1,
      "metadata": {
        "id": "g1L5wwosRm63",
        "colab": {
          "base_uri": "https://localhost:8080/"
        },
        "outputId": "f718499c-364f-48ea-e869-a398cd71f75f"
      },
      "outputs": [
        {
          "output_type": "stream",
          "name": "stdout",
          "text": [
            "Colab only includes TensorFlow 2.x; %tensorflow_version has no effect.\n"
          ]
        }
      ],
      "source": [
        "%tensorflow_version 2.x\n",
        "## Tensorflow and Keras\n",
        "import tensorflow as tf\n",
        "from tensorflow import keras\n",
        "## matplotlib and pyplot\n",
        "import matplotlib.pyplot as plt\n",
        "import numpy as np"
      ]
    },
    {
      "cell_type": "markdown",
      "source": [
        "\n",
        "> $Y =(\\sum_{i=0}^n w_i x_i) + b$\n",
        "\n",
        "> $w$ stands for the weight of each connection to the neuron\n",
        "\n",
        "> $x$ stands for the value of the connected neuron from the previous value\n",
        "\n",
        "> $b$ stands for the bias at each layer, this is a constant\n",
        "\n",
        "> $n$ is the number of connections\n",
        "\n",
        "> $Y$ is the output of the current neuron\n",
        "\n",
        "> $\\sum$ stands for sum\n",
        "\n",
        "The equation you just read is called a weighed sum. We will take this weighted sum at each and every neuron as we pass information through the network. Then we will add what's called a bias to this sum. The bias allows us to shift the network up or down by a constant value. It is like the y-intercept of a line.\n",
        "\n",
        "But that equation is the not complete one! We forgot a crucial part, **the activation function**. This is a function that we apply to the equation seen above to add complexity and dimensionality to our network. Our new equation with the addition of an activation function $F(x)$ is seen below.\n",
        "\n",
        "> $Y =F((\\sum_{i=0}^n w_i x_i) + b)$\n",
        "\n",
        "Our network will start with predefined activation functions (they may be different at each layer) but random weights and biases. As we train the network by feeding it data it will learn the correct weights and biases and adjust the network accordingly using a technqiue called **backpropagation** (explained below). Once the correct weights and biases have been learned our network will hopefully be able to give us meaningful predictions. We get these predictions by observing the values at our final layer, the output layer."
      ],
      "metadata": {
        "id": "77i3mvoQZAgB"
      }
    },
    {
      "cell_type": "markdown",
      "source": [
        "###Dataset\n",
        "For this tutorial we will use the MNIST Fashion Dataset. This is a dataset that is included in keras.\n",
        "\n",
        "This dataset includes 60,000 images for training and 10,000 images for validation/testing."
      ],
      "metadata": {
        "id": "3x0kIFR0Zqnn"
      }
    },
    {
      "cell_type": "code",
      "execution_count": 2,
      "metadata": {
        "id": "U7AgsgwJR294",
        "colab": {
          "base_uri": "https://localhost:8080/"
        },
        "outputId": "0ed475bd-64f8-4b95-e198-96c731fdee2a"
      },
      "outputs": [
        {
          "output_type": "stream",
          "name": "stdout",
          "text": [
            "Downloading data from https://storage.googleapis.com/tensorflow/tf-keras-datasets/train-labels-idx1-ubyte.gz\n",
            "\u001b[1m29515/29515\u001b[0m \u001b[32m━━━━━━━━━━━━━━━━━━━━\u001b[0m\u001b[37m\u001b[0m \u001b[1m0s\u001b[0m 0us/step\n",
            "Downloading data from https://storage.googleapis.com/tensorflow/tf-keras-datasets/train-images-idx3-ubyte.gz\n",
            "\u001b[1m26421880/26421880\u001b[0m \u001b[32m━━━━━━━━━━━━━━━━━━━━\u001b[0m\u001b[37m\u001b[0m \u001b[1m0s\u001b[0m 0us/step\n",
            "Downloading data from https://storage.googleapis.com/tensorflow/tf-keras-datasets/t10k-labels-idx1-ubyte.gz\n",
            "\u001b[1m5148/5148\u001b[0m \u001b[32m━━━━━━━━━━━━━━━━━━━━\u001b[0m\u001b[37m\u001b[0m \u001b[1m0s\u001b[0m 0us/step\n",
            "Downloading data from https://storage.googleapis.com/tensorflow/tf-keras-datasets/t10k-images-idx3-ubyte.gz\n",
            "\u001b[1m4422102/4422102\u001b[0m \u001b[32m━━━━━━━━━━━━━━━━━━━━\u001b[0m\u001b[37m\u001b[0m \u001b[1m0s\u001b[0m 0us/step\n"
          ]
        }
      ],
      "source": [
        "##(X_train, y_train) , (X_test, y_test) = keras.datasets.{{dataset_name}}.load_data()\n",
        "\n",
        "(train_images, train_labels), (test_images, test_labels) = keras.datasets.fashion_mnist.load_data()"
      ]
    },
    {
      "cell_type": "code",
      "source": [
        "train_images.shape"
      ],
      "metadata": {
        "colab": {
          "base_uri": "https://localhost:8080/"
        },
        "id": "bOKi_VG8mLlF",
        "outputId": "9aebf5a9-d9b9-4e14-c479-8cb8265a53e9"
      },
      "execution_count": 3,
      "outputs": [
        {
          "output_type": "execute_result",
          "data": {
            "text/plain": [
              "(60000, 28, 28)"
            ]
          },
          "metadata": {},
          "execution_count": 3
        }
      ]
    },
    {
      "cell_type": "markdown",
      "source": [
        "So we've got 60,000 images that are made up of 28x28 pixels (784 in total)."
      ],
      "metadata": {
        "id": "dyJFyORnmXU0"
      }
    },
    {
      "cell_type": "code",
      "source": [
        "len(train_images)"
      ],
      "metadata": {
        "id": "7YoZvpkFbneF",
        "colab": {
          "base_uri": "https://localhost:8080/"
        },
        "outputId": "4a40f39e-b264-4a55-f078-b5c1f9ff3d08"
      },
      "execution_count": 4,
      "outputs": [
        {
          "output_type": "execute_result",
          "data": {
            "text/plain": [
              "60000"
            ]
          },
          "metadata": {},
          "execution_count": 4
        }
      ]
    },
    {
      "cell_type": "code",
      "source": [
        "len(test_images)"
      ],
      "metadata": {
        "id": "OTk9xgg5bqeU",
        "colab": {
          "base_uri": "https://localhost:8080/"
        },
        "outputId": "7fb8bc11-3108-4d63-da37-b8d279e045ad"
      },
      "execution_count": 5,
      "outputs": [
        {
          "output_type": "execute_result",
          "data": {
            "text/plain": [
              "10000"
            ]
          },
          "metadata": {},
          "execution_count": 5
        }
      ]
    },
    {
      "cell_type": "code",
      "source": [
        "train_images[0].shape"
      ],
      "metadata": {
        "id": "ISwG5LPwbzWh",
        "colab": {
          "base_uri": "https://localhost:8080/"
        },
        "outputId": "01235977-643f-46ab-d305-e57930813cf8"
      },
      "execution_count": 6,
      "outputs": [
        {
          "output_type": "execute_result",
          "data": {
            "text/plain": [
              "(28, 28)"
            ]
          },
          "metadata": {},
          "execution_count": 6
        }
      ]
    },
    {
      "cell_type": "code",
      "source": [
        "plt.matshow(train_images[0])"
      ],
      "metadata": {
        "id": "tT24ybkFb0cp",
        "colab": {
          "base_uri": "https://localhost:8080/",
          "height": 454
        },
        "outputId": "293fe8f9-4ca5-4e27-bf1a-8a6b6e7f965e"
      },
      "execution_count": 7,
      "outputs": [
        {
          "output_type": "execute_result",
          "data": {
            "text/plain": [
              "<matplotlib.image.AxesImage at 0x7fecefd70690>"
            ]
          },
          "metadata": {},
          "execution_count": 7
        },
        {
          "output_type": "display_data",
          "data": {
            "text/plain": [
              "<Figure size 480x480 with 1 Axes>"
            ],
            "image/png": "[encoded data removed]"
          },
          "metadata": {}
        }
      ]
    },
    {
      "cell_type": "code",
      "source": [
        "plt.matshow(train_images[10])"
      ],
      "metadata": {
        "colab": {
          "base_uri": "https://localhost:8080/",
          "height": 454
        },
        "id": "GHIbFp-XeOr-",
        "outputId": "c1587043-2655-41a8-c4c5-3aab4257c7f0"
      },
      "execution_count": 8,
      "outputs": [
        {
          "output_type": "execute_result",
          "data": {
            "text/plain": [
              "<matplotlib.image.AxesImage at 0x7fecee76ff10>"
            ]
          },
          "metadata": {},
          "execution_count": 8
        },
        {
          "output_type": "display_data",
          "data": {
            "text/plain": [
              "<Figure size 480x480 with 1 Axes>"
            ],
            "image/png": "[encoded data removed]"
          },
          "metadata": {}
        }
      ]
    },
    {
      "cell_type": "code",
      "source": [
        "train_images[0,23,23]  # let's have a look at one pixel"
      ],
      "metadata": {
        "colab": {
          "base_uri": "https://localhost:8080/"
        },
        "id": "pJ7vYrWIlLdY",
        "outputId": "57263f54-482e-4531-8ca6-534ad2229860"
      },
      "execution_count": 9,
      "outputs": [
        {
          "output_type": "execute_result",
          "data": {
            "text/plain": [
              "194"
            ]
          },
          "metadata": {},
          "execution_count": 9
        }
      ]
    },
    {
      "cell_type": "markdown",
      "source": [
        "Loads the Fashion-MNIST dataset.\n",
        "\n",
        "This is a dataset of 60,000 28x28 grayscale images of 10 fashion categories, along with a test set of 10,000 images. This dataset can be used as a drop-in replacement for MNIST.\n",
        "\n",
        "The classes are:\n",
        "\n",
        "![image.png](data:image/png;base64,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)"
      ],
      "metadata": {
        "id": "EpJCFDwRldev"
      }
    },
    {
      "cell_type": "code",
      "source": [
        "class_names = ['T-shirt/top', 'Trouser', 'Pullover', 'Dress', 'Coat',\n",
        "               'Sandal', 'Shirt', 'Sneaker', 'Bag', 'Ankle boot']\n",
        "\n",
        "train_labels[:10]  # let's have a look at the first 10 training labels"
      ],
      "metadata": {
        "id": "FMEfCK1yb3Fk",
        "colab": {
          "base_uri": "https://localhost:8080/"
        },
        "outputId": "9346ee90-74e9-4e25-9a60-b0774d0da4c0"
      },
      "execution_count": 10,
      "outputs": [
        {
          "output_type": "execute_result",
          "data": {
            "text/plain": [
              "array([9, 0, 0, 3, 0, 2, 7, 2, 5, 5], dtype=uint8)"
            ]
          },
          "metadata": {},
          "execution_count": 10
        }
      ]
    },
    {
      "cell_type": "code",
      "source": [
        "plt.figure()\n",
        "plt.imshow(train_images[1])\n",
        "plt.colorbar()\n",
        "plt.grid(False)\n",
        "plt.show()"
      ],
      "metadata": {
        "colab": {
          "base_uri": "https://localhost:8080/",
          "height": 430
        },
        "id": "m-AfdWzalNVj",
        "outputId": "7eb06635-70c5-45a9-ffe5-f30c83be1cfe"
      },
      "execution_count": 11,
      "outputs": [
        {
          "output_type": "display_data",
          "data": {
            "text/plain": [
              "<Figure size 640x480 with 2 Axes>"
            ],
            "image/png": "[encoded data removed]"
          },
          "metadata": {}
        }
      ]
    },
    {
      "cell_type": "markdown",
      "source": [
        "##Data Preprocessing\n",
        "The last step before creating our model is to *preprocess* our data. This simply means applying some prior transformations to our data before feeding it the model. In this case we will simply scale all our greyscale pixel values (0-255) to be between 0 and 1. We can do this by dividing each value in the training and testing sets by 255.0. We do this because smaller values will make it easier for the model to process our values.\n",
        "\n",
        "The reason is our model contains random weights and biases between zero and one. So, if we have tiny parameters and large input values (0-255), then it is a kind of mismatch and it would involve large calculations. So, we scale the pixel values between zero and ones."
      ],
      "metadata": {
        "id": "0H5JwxD5nB7m"
      }
    },
    {
      "cell_type": "code",
      "source": [
        "train_images = train_images / 255\n",
        "test_images = test_images / 255\n",
        "\n",
        "#X_train_flattened = X_train.reshape(len(X_train), 28*28)\n",
        "#X_test_flattened = X_test.reshape(len(X_test), 28*28)\n",
        "\n",
        "#X_train_flattened.shape"
      ],
      "metadata": {
        "id": "27qouRhmb54E"
      },
      "execution_count": 12,
      "outputs": []
    },
    {
      "cell_type": "markdown",
      "source": [
        "##Building the Model\n",
        "Now it's time to build the model! We are going to use a keras *sequential* model with three different layers. This model represents a feed-forward neural network (one that passes values from left to right). We'll break down each layer and its architecture below.\n",
        "\n",
        "**Layer 1:** This is our input layer and it will conist of 784 neurons. We use the flatten layer with an input shape of (28,28) to denote that our input should come in in that shape. The flatten means that our layer will reshape the shape (28,28) array into a vector of 784 neurons so that each pixel will be associated with one neuron.\n",
        "\n",
        "**Layer 2:** This is our first and only hidden layer. The *dense* denotes that this layer will be fully connected and each neuron from the previous layer connects to each neuron of this layer. It has 128 neurons and uses the rectify linear unit activation function.\n",
        "\n",
        "**Layer 3:** This is our output later and is also a dense layer. It has 10 neurons that we will look at to determine our models output. Each neuron represnts the probabillity of a given image being one of the 10 different classes. The activation function *softmax* is used on this layer to calculate a probabillity distribution for each class. This means the value of any neuron in this layer will be between 0 and 1, where 1 represents a high probabillity of the image being that class."
      ],
      "metadata": {
        "id": "c1dYB8fuqJKS"
      }
    },
    {
      "cell_type": "code",
      "source": [
        "model = keras.Sequential([\n",
        "    keras.layers.Flatten(input_shape=(28, 28)),\n",
        "    keras.layers.Dense(128, activation='relu'),\n",
        "    keras.layers.Dense(10, activation='softmax')\n",
        "])"
      ],
      "metadata": {
        "id": "BQG1zYpwcCOR",
        "colab": {
          "base_uri": "https://localhost:8080/"
        },
        "outputId": "25398789-3710-45a7-b8d8-3262c674430b"
      },
      "execution_count": 13,
      "outputs": [
        {
          "output_type": "stream",
          "name": "stderr",
          "text": [
            "/usr/local/lib/python3.11/dist-packages/keras/src/layers/reshaping/flatten.py:37: UserWarning: Do not pass an `input_shape`/`input_dim` argument to a layer. When using Sequential models, prefer using an `Input(shape)` object as the first layer in the model instead.\n",
            "  super().__init__(**kwargs)\n"
          ]
        }
      ]
    },
    {
      "cell_type": "code",
      "source": [
        "model.summary()"
      ],
      "metadata": {
        "colab": {
          "base_uri": "https://localhost:8080/",
          "height": 225
        },
        "id": "KsMz1hhaqlch",
        "outputId": "a010deb5-e545-4227-d352-e12760f74e23"
      },
      "execution_count": 14,
      "outputs": [
        {
          "output_type": "display_data",
          "data": {
            "text/plain": [
              "\u001b[1mModel: \"sequential\"\u001b[0m\n"
            ],
            "text/html": [
              "<pre style=\"white-space:pre;overflow-x:auto;line-height:normal;font-family:Menlo,'DejaVu Sans Mono',consolas,'Courier New',monospace\"><span style=\"font-weight: bold\">Model: \"sequential\"</span>\n",
              "</pre>\n"
            ]
          },
          "metadata": {}
        },
        {
          "output_type": "display_data",
          "data": {
            "text/plain": [
              "┏━━━━━━━━━━━━━━━━━━━━━━━━━━━━━━━━━━━━━━┳━━━━━━━━━━━━━━━━━━━━━━━━━━━━━┳━━━━━━━━━━━━━━━━━┓\n",
              "┃\u001b[1m \u001b[0m\u001b[1mLayer (type)                        \u001b[0m\u001b[1m \u001b[0m┃\u001b[1m \u001b[0m\u001b[1mOutput Shape               \u001b[0m\u001b[1m \u001b[0m┃\u001b[1m \u001b[0m\u001b[1m        Param #\u001b[0m\u001b[1m \u001b[0m┃\n",
              "┡━━━━━━━━━━━━━━━━━━━━━━━━━━━━━━━━━━━━━━╇━━━━━━━━━━━━━━━━━━━━━━━━━━━━━╇━━━━━━━━━━━━━━━━━┩\n",
              "│ flatten (\u001b[38;5;33mFlatten\u001b[0m)                    │ (\u001b[38;5;45mNone\u001b[0m, \u001b[38;5;34m784\u001b[0m)                 │               \u001b[38;5;34m0\u001b[0m │\n",
              "├──────────────────────────────────────┼─────────────────────────────┼─────────────────┤\n",
              "│ dense (\u001b[38;5;33mDense\u001b[0m)                        │ (\u001b[38;5;45mNone\u001b[0m, \u001b[38;5;34m128\u001b[0m)                 │         \u001b[38;5;34m100,480\u001b[0m │\n",
              "├──────────────────────────────────────┼─────────────────────────────┼─────────────────┤\n",
              "│ dense_1 (\u001b[38;5;33mDense\u001b[0m)                      │ (\u001b[38;5;45mNone\u001b[0m, \u001b[38;5;34m10\u001b[0m)                  │           \u001b[38;5;34m1,290\u001b[0m │\n",
              "└──────────────────────────────────────┴─────────────────────────────┴─────────────────┘\n"
            ],
            "text/html": [
              "<pre style=\"white-space:pre;overflow-x:auto;line-height:normal;font-family:Menlo,'DejaVu Sans Mono',consolas,'Courier New',monospace\">┏━━━━━━━━━━━━━━━━━━━━━━━━━━━━━━━━━━━━━━┳━━━━━━━━━━━━━━━━━━━━━━━━━━━━━┳━━━━━━━━━━━━━━━━━┓\n",
              "┃<span style=\"font-weight: bold\"> Layer (type)                         </span>┃<span style=\"font-weight: bold\"> Output Shape                </span>┃<span style=\"font-weight: bold\">         Param # </span>┃\n",
              "┡━━━━━━━━━━━━━━━━━━━━━━━━━━━━━━━━━━━━━━╇━━━━━━━━━━━━━━━━━━━━━━━━━━━━━╇━━━━━━━━━━━━━━━━━┩\n",
              "│ flatten (<span style=\"color: #0087ff; text-decoration-color: #0087ff\">Flatten</span>)                    │ (<span style=\"color: #00d7ff; text-decoration-color: #00d7ff\">None</span>, <span style=\"color: #00af00; text-decoration-color: #00af00\">784</span>)                 │               <span style=\"color: #00af00; text-decoration-color: #00af00\">0</span> │\n",
              "├──────────────────────────────────────┼─────────────────────────────┼─────────────────┤\n",
              "│ dense (<span style=\"color: #0087ff; text-decoration-color: #0087ff\">Dense</span>)                        │ (<span style=\"color: #00d7ff; text-decoration-color: #00d7ff\">None</span>, <span style=\"color: #00af00; text-decoration-color: #00af00\">128</span>)                 │         <span style=\"color: #00af00; text-decoration-color: #00af00\">100,480</span> │\n",
              "├──────────────────────────────────────┼─────────────────────────────┼─────────────────┤\n",
              "│ dense_1 (<span style=\"color: #0087ff; text-decoration-color: #0087ff\">Dense</span>)                      │ (<span style=\"color: #00d7ff; text-decoration-color: #00d7ff\">None</span>, <span style=\"color: #00af00; text-decoration-color: #00af00\">10</span>)                  │           <span style=\"color: #00af00; text-decoration-color: #00af00\">1,290</span> │\n",
              "└──────────────────────────────────────┴─────────────────────────────┴─────────────────┘\n",
              "</pre>\n"
            ]
          },
          "metadata": {}
        },
        {
          "output_type": "display_data",
          "data": {
            "text/plain": [
              "\u001b[1m Total params: \u001b[0m\u001b[38;5;34m101,770\u001b[0m (397.54 KB)\n"
            ],
            "text/html": [
              "<pre style=\"white-space:pre;overflow-x:auto;line-height:normal;font-family:Menlo,'DejaVu Sans Mono',consolas,'Courier New',monospace\"><span style=\"font-weight: bold\"> Total params: </span><span style=\"color: #00af00; text-decoration-color: #00af00\">101,770</span> (397.54 KB)\n",
              "</pre>\n"
            ]
          },
          "metadata": {}
        },
        {
          "output_type": "display_data",
          "data": {
            "text/plain": [
              "\u001b[1m Trainable params: \u001b[0m\u001b[38;5;34m101,770\u001b[0m (397.54 KB)\n"
            ],
            "text/html": [
              "<pre style=\"white-space:pre;overflow-x:auto;line-height:normal;font-family:Menlo,'DejaVu Sans Mono',consolas,'Courier New',monospace\"><span style=\"font-weight: bold\"> Trainable params: </span><span style=\"color: #00af00; text-decoration-color: #00af00\">101,770</span> (397.54 KB)\n",
              "</pre>\n"
            ]
          },
          "metadata": {}
        },
        {
          "output_type": "display_data",
          "data": {
            "text/plain": [
              "\u001b[1m Non-trainable params: \u001b[0m\u001b[38;5;34m0\u001b[0m (0.00 B)\n"
            ],
            "text/html": [
              "<pre style=\"white-space:pre;overflow-x:auto;line-height:normal;font-family:Menlo,'DejaVu Sans Mono',consolas,'Courier New',monospace\"><span style=\"font-weight: bold\"> Non-trainable params: </span><span style=\"color: #00af00; text-decoration-color: #00af00\">0</span> (0.00 B)\n",
              "</pre>\n"
            ]
          },
          "metadata": {}
        }
      ]
    },
    {
      "cell_type": "code",
      "source": [
        "model.compile(optimizer='adam',\n",
        "              loss='sparse_categorical_crossentropy',\n",
        "              metrics=['accuracy'])"
      ],
      "metadata": {
        "id": "kC7QVmzh54VZ"
      },
      "execution_count": 16,
      "outputs": []
    },
    {
      "cell_type": "code",
      "source": [
        "model.fit(train_images, train_labels, epochs=10)  # we pass the data, labels and epochs and watch the magic!"
      ],
      "metadata": {
        "colab": {
          "base_uri": "https://localhost:8080/"
        },
        "id": "Toeq01yq557c",
        "outputId": "bdda5c78-2266-4a7f-8865-46c56753d0e8"
      },
      "execution_count": 17,
      "outputs": [
        {
          "output_type": "stream",
          "name": "stdout",
          "text": [
            "Epoch 1/10\n",
            "\u001b[1m1875/1875\u001b[0m \u001b[32m━━━━━━━━━━━━━━━━━━━━\u001b[0m\u001b[37m\u001b[0m \u001b[1m12s\u001b[0m 6ms/step - accuracy: 0.7863 - loss: 0.6134\n",
            "Epoch 2/10\n",
            "\u001b[1m1875/1875\u001b[0m \u001b[32m━━━━━━━━━━━━━━━━━━━━\u001b[0m\u001b[37m\u001b[0m \u001b[1m18s\u001b[0m 4ms/step - accuracy: 0.8616 - loss: 0.3838\n",
            "Epoch 3/10\n",
            "\u001b[1m1875/1875\u001b[0m \u001b[32m━━━━━━━━━━━━━━━━━━━━\u001b[0m\u001b[37m\u001b[0m \u001b[1m7s\u001b[0m 4ms/step - accuracy: 0.8767 - loss: 0.3363\n",
            "Epoch 4/10\n",
            "\u001b[1m1875/1875\u001b[0m \u001b[32m━━━━━━━━━━━━━━━━━━━━\u001b[0m\u001b[37m\u001b[0m \u001b[1m10s\u001b[0m 4ms/step - accuracy: 0.8889 - loss: 0.3062\n",
            "Epoch 5/10\n",
            "\u001b[1m1875/1875\u001b[0m \u001b[32m━━━━━━━━━━━━━━━━━━━━\u001b[0m\u001b[37m\u001b[0m \u001b[1m10s\u001b[0m 4ms/step - accuracy: 0.8918 - loss: 0.2933\n",
            "Epoch 6/10\n",
            "\u001b[1m1875/1875\u001b[0m \u001b[32m━━━━━━━━━━━━━━━━━━━━\u001b[0m\u001b[37m\u001b[0m \u001b[1m8s\u001b[0m 4ms/step - accuracy: 0.8959 - loss: 0.2779\n",
            "Epoch 7/10\n",
            "\u001b[1m1875/1875\u001b[0m \u001b[32m━━━━━━━━━━━━━━━━━━━━\u001b[0m\u001b[37m\u001b[0m \u001b[1m7s\u001b[0m 4ms/step - accuracy: 0.9012 - loss: 0.2626\n",
            "Epoch 8/10\n",
            "\u001b[1m1875/1875\u001b[0m \u001b[32m━━━━━━━━━━━━━━━━━━━━\u001b[0m\u001b[37m\u001b[0m \u001b[1m10s\u001b[0m 4ms/step - accuracy: 0.9069 - loss: 0.2515\n",
            "Epoch 9/10\n",
            "\u001b[1m1875/1875\u001b[0m \u001b[32m━━━━━━━━━━━━━━━━━━━━\u001b[0m\u001b[37m\u001b[0m \u001b[1m8s\u001b[0m 4ms/step - accuracy: 0.9084 - loss: 0.2470\n",
            "Epoch 10/10\n",
            "\u001b[1m1875/1875\u001b[0m \u001b[32m━━━━━━━━━━━━━━━━━━━━\u001b[0m\u001b[37m\u001b[0m \u001b[1m7s\u001b[0m 4ms/step - accuracy: 0.9123 - loss: 0.2366\n"
          ]
        },
        {
          "output_type": "execute_result",
          "data": {
            "text/plain": [
              "<keras.src.callbacks.history.History at 0x7feceeb6a3d0>"
            ]
          },
          "metadata": {},
          "execution_count": 17
        }
      ]
    },
    {
      "cell_type": "code",
      "source": [
        "model.get_weights()"
      ],
      "metadata": {
        "id": "xI7WNHHNcFMH",
        "colab": {
          "base_uri": "https://localhost:8080/"
        },
        "outputId": "8efb4571-03c2-45a6-d442-e1bbca90427c"
      },
      "execution_count": 18,
      "outputs": [
        {
          "output_type": "execute_result",
          "data": {
            "text/plain": [
              "[array([[ 2.01045811e-01, -3.78991403e-02, -6.95976689e-02, ...,\n",
              "         -1.89647530e-04,  1.22043043e-02,  7.33228773e-03],\n",
              "        [ 2.19663098e-01,  4.13221344e-02,  5.90061173e-02, ...,\n",
              "         -6.41985387e-02,  2.54547521e-02,  8.57568681e-02],\n",
              "        [ 1.20802686e-01, -1.51857734e-03, -6.53861165e-02, ...,\n",
              "         -3.06516469e-01, -5.93009926e-02, -2.23384425e-01],\n",
              "        ...,\n",
              "        [ 1.21405385e-01, -5.41280955e-03,  7.18978345e-02, ...,\n",
              "         -1.73586443e-01, -4.84517813e-02,  2.79829443e-01],\n",
              "        [-3.03306699e-01, -4.42079455e-03,  1.20144570e-02, ...,\n",
              "         -1.27324417e-01,  5.70886508e-02,  1.79231614e-01],\n",
              "        [ 1.01129502e-01,  4.77269962e-02,  7.62891397e-03, ...,\n",
              "          1.84294641e-01, -6.90364763e-02, -2.75976653e-03]], dtype=float32),\n",
              " array([ 0.49505025, -0.02414433, -0.01456499,  0.16790505,  0.16316234,\n",
              "        -0.23556833, -0.1773471 ,  0.34703788,  0.9071562 ,  0.48452303,\n",
              "         0.17695306,  0.3374187 ,  0.2581384 , -0.19923966,  0.3351385 ,\n",
              "         0.4463471 ,  0.43120515,  0.53819555,  0.21912737,  0.03823819,\n",
              "        -0.01888363,  0.16686197,  0.40671605, -0.19512147,  0.6775873 ,\n",
              "         0.29190046,  0.41668618,  0.2201904 ,  0.06135693,  0.29291263,\n",
              "        -0.17541312,  0.21926977,  0.50325656,  0.18993033, -0.16787495,\n",
              "        -0.2941255 , -0.09942092,  0.29436955,  0.34114632, -0.20585477,\n",
              "        -0.07718362,  0.33745614,  0.36145625, -0.05916984,  0.01246354,\n",
              "        -0.01986523,  0.22967362,  0.19437025,  0.4662474 ,  0.66589844,\n",
              "         0.2745977 , -0.49975672,  0.15362857,  0.20239113,  0.3026586 ,\n",
              "         0.6266585 ,  0.07875824, -0.01860779,  0.86766934,  0.10240283,\n",
              "        -0.10138803, -0.12862417,  0.04908583,  0.3618035 ,  0.42859414,\n",
              "         0.04880719,  0.16851887,  0.7126033 ,  0.06617584,  0.4450415 ,\n",
              "         0.12156507, -0.25654256, -0.2848696 , -0.4082348 ,  0.16041723,\n",
              "         0.5795976 ,  0.45921454,  0.11977759,  0.3919193 ,  0.3891231 ,\n",
              "         0.17841636,  0.5160424 , -0.1659726 , -0.01943034,  0.55568004,\n",
              "        -0.130562  ,  0.05107229,  0.5473641 ,  0.35539153,  0.33810773,\n",
              "         0.5021117 ,  0.30041242, -0.00374712,  0.47218975,  0.40319714,\n",
              "         0.6159065 ,  0.5541018 , -0.08911566, -0.04631904, -0.17212613,\n",
              "         0.37552565,  0.26591912, -0.46270883, -0.02430657, -0.1286154 ,\n",
              "         0.10375974,  0.01261042, -0.28049162,  0.4291914 , -0.01892161,\n",
              "        -0.07599685, -0.01720932,  0.27529445,  0.54792625,  0.12921703,\n",
              "         0.39787862,  0.58782786,  0.02868607,  0.49598616,  0.2542478 ,\n",
              "         0.15669009,  0.10219759,  0.13068245,  0.14817014,  0.49542674,\n",
              "        -0.15557776, -0.02254533,  0.63007504], dtype=float32),\n",
              " array([[ 0.09664039, -0.7830055 ,  0.09889326, ..., -0.4505826 ,\n",
              "         -0.05601556, -0.65654284],\n",
              "        [-0.12603047, -0.14391336, -0.17892133, ..., -0.1092516 ,\n",
              "         -0.0678015 ,  0.07217232],\n",
              "        [-0.11523871,  0.05711191, -0.05495233, ..., -0.18345337,\n",
              "         -0.03454508, -0.01886197],\n",
              "        ...,\n",
              "        [-0.06370863, -0.16356991, -0.09967981, ..., -0.08977016,\n",
              "          0.22040786, -0.41821703],\n",
              "        [-0.18342015, -0.18319891,  0.02663522, ..., -0.01207889,\n",
              "          0.04201698,  0.10167347],\n",
              "        [-1.0466703 , -0.35788393, -0.5551023 , ...,  0.20803295,\n",
              "         -0.5166092 ,  0.16041066]], dtype=float32),\n",
              " array([-0.03309887, -0.4212128 ,  0.15952884,  0.37646183, -0.4022167 ,\n",
              "         0.04202516,  0.17473973,  0.16900398, -0.04598368, -0.4060582 ],\n",
              "       dtype=float32)]"
            ]
          },
          "metadata": {},
          "execution_count": 18
        }
      ]
    },
    {
      "cell_type": "markdown",
      "source": [
        "##Evaluating the Model\n",
        "Now it's time to test/evaluate the model. We can do this quite easily using another builtin method from keras.\n",
        "\n",
        "The *verbose* argument is defined from the keras documentation as:\n",
        "\"verbose: 0 or 1. Verbosity mode. 0 = silent, 1 = progress bar.\""
      ],
      "metadata": {
        "id": "Iyfbz2dJTLyi"
      }
    },
    {
      "cell_type": "code",
      "source": [
        "test_loss, test_acc = model.evaluate(test_images,  test_labels, verbose=1)\n",
        "\n",
        "print('Test accuracy:', test_acc)"
      ],
      "metadata": {
        "colab": {
          "base_uri": "https://localhost:8080/"
        },
        "id": "okw-NPu0SZ-a",
        "outputId": "daf483e6-2a07-4baa-d783-120fd3c15356"
      },
      "execution_count": 19,
      "outputs": [
        {
          "output_type": "stream",
          "name": "stdout",
          "text": [
            "\u001b[1m313/313\u001b[0m \u001b[32m━━━━━━━━━━━━━━━━━━━━\u001b[0m\u001b[37m\u001b[0m \u001b[1m1s\u001b[0m 4ms/step - accuracy: 0.8783 - loss: 0.3487\n",
            "Test accuracy: 0.8780999779701233\n"
          ]
        }
      ]
    },
    {
      "cell_type": "markdown",
      "source": [
        "##Making Predictions\n",
        "To make predictions we simply need to pass an array of data in the form we've specified in the input layer to ```.predict()``` method."
      ],
      "metadata": {
        "id": "SZXefY0ZTdWh"
      }
    },
    {
      "cell_type": "code",
      "source": [
        "predictions = model.predict(test_images)"
      ],
      "metadata": {
        "colab": {
          "base_uri": "https://localhost:8080/"
        },
        "id": "Qn6eusfqSd3m",
        "outputId": "a638eefd-f9d8-4a0c-d091-ef7aebc5804a"
      },
      "execution_count": 20,
      "outputs": [
        {
          "output_type": "stream",
          "name": "stdout",
          "text": [
            "\u001b[1m313/313\u001b[0m \u001b[32m━━━━━━━━━━━━━━━━━━━━\u001b[0m\u001b[37m\u001b[0m \u001b[1m1s\u001b[0m 2ms/step\n"
          ]
        }
      ]
    },
    {
      "cell_type": "code",
      "source": [
        "plt.figure()\n",
        "plt.imshow(test_images[1])\n",
        "plt.colorbar()\n",
        "plt.grid(False)\n",
        "plt.show()"
      ],
      "metadata": {
        "colab": {
          "base_uri": "https://localhost:8080/",
          "height": 435
        },
        "id": "SP2tp8_ISij-",
        "outputId": "31fe7a95-ef96-4b80-c61b-7a2f20baed1e"
      },
      "execution_count": 21,
      "outputs": [
        {
          "output_type": "display_data",
          "data": {
            "text/plain": [
              "<Figure size 640x480 with 2 Axes>"
            ],
            "image/png": "[encoded data removed]"
          },
          "metadata": {}
        }
      ]
    },
    {
      "cell_type": "code",
      "source": [
        "predictions[1]"
      ],
      "metadata": {
        "colab": {
          "base_uri": "https://localhost:8080/"
        },
        "id": "F_ly9BHESuuC",
        "outputId": "55670fdd-65c0-46d2-e169-9d816a8bbf9b"
      },
      "execution_count": 22,
      "outputs": [
        {
          "output_type": "execute_result",
          "data": {
            "text/plain": [
              "array([3.8782506e-05, 6.2474380e-11, 9.9705267e-01, 8.6179572e-14,\n",
              "       2.8253216e-03, 5.4000421e-10, 8.3153354e-05, 1.4831783e-18,\n",
              "       2.7587399e-10, 8.1030433e-16], dtype=float32)"
            ]
          },
          "metadata": {},
          "execution_count": 22
        }
      ]
    },
    {
      "cell_type": "code",
      "source": [
        "np.argmax(predictions[1])"
      ],
      "metadata": {
        "colab": {
          "base_uri": "https://localhost:8080/"
        },
        "id": "rQ6UTUn1S58M",
        "outputId": "c8536b85-a901-4380-aea3-2b13192ba303"
      },
      "execution_count": 24,
      "outputs": [
        {
          "output_type": "execute_result",
          "data": {
            "text/plain": [
              "2"
            ]
          },
          "metadata": {},
          "execution_count": 24
        }
      ]
    },
    {
      "cell_type": "markdown",
      "source": [
        "\n",
        "\n",
        "```\n",
        "##Customized Code\n",
        "COLOR = 'white'\n",
        "plt.rcParams['text.color'] = COLOR\n",
        "plt.rcParams['axes.labelcolor'] = COLOR\n",
        "\n",
        "def predict(model, image, correct_label):\n",
        "  class_names = ['T-shirt/top', 'Trouser', 'Pullover', 'Dress', 'Coat',\n",
        "               'Sandal', 'Shirt', 'Sneaker', 'Bag', 'Ankle boot']\n",
        "  prediction = model.predict(np.array([image]))\n",
        "  predicted_class = class_names[np.argmax(prediction)]\n",
        "\n",
        "  show_image(image, class_names[correct_label], predicted_class)\n",
        "\n",
        "\n",
        "def show_image(img, label, guess):\n",
        "  plt.figure()\n",
        "  plt.imshow(img, cmap=plt.cm.binary)\n",
        "  plt.title(\"Excpected: \" + label)\n",
        "  plt.xlabel(\"Guess: \" + guess)\n",
        "  plt.colorbar()\n",
        "  plt.grid(False)\n",
        "  plt.show()\n",
        "\n",
        "\n",
        "def get_number():\n",
        "  while True:\n",
        "    num = input(\"Pick a number: \")\n",
        "    if num.isdigit():\n",
        "      num = int(num)\n",
        "      if 0 <= num <= 1000:\n",
        "        return int(num)\n",
        "    else:\n",
        "      print(\"Try again...\")\n",
        "\n",
        "num = get_number()\n",
        "image = test_images[num]\n",
        "label = test_labels[num]\n",
        "predict(model, image, label)\n",
        "\n",
        "```\n",
        "\n"
      ],
      "metadata": {
        "id": "8fUB17VbTjL5"
      }
    }
  ],
  "metadata": {
    "colab": {
      "provenance": []
    },
    "kernelspec": {
      "display_name": "Python 3",
      "name": "python3"
    },
    "language_info": {
      "name": "python"
    }
  },
  "nbformat": 4,
  "nbformat_minor": 0
}